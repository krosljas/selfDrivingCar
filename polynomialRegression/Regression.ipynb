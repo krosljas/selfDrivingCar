{
  "nbformat": 4,
  "nbformat_minor": 0,
  "metadata": {
    "colab": {
      "name": "Regression.ipynb",
      "provenance": []
    },
    "kernelspec": {
      "name": "python3",
      "display_name": "Python 3"
    }
  },
  "cells": [
    {
      "cell_type": "code",
      "metadata": {
        "id": "UJMw-hpBho0m"
      },
      "source": [
        "import numpy as np\n",
        "import matplotlib.pyplot as plt\n",
        "import keras\n",
        "from keras.models import Sequential\n",
        "from keras.layers import Dense\n",
        "from keras.optimizers import Adam"
      ],
      "execution_count": 7,
      "outputs": []
    },
    {
      "cell_type": "code",
      "metadata": {
        "colab": {
          "base_uri": "https://localhost:8080/",
          "height": 282
        },
        "id": "-nQeW1HZiUmy",
        "outputId": "9775515d-2799-4a4f-b76a-a606d7bf1887"
      },
      "source": [
        "np.random.seed(0)\n",
        "points = 500\n",
        "X = np.linspace(-3, 3, points)\n",
        "y = np.sin(X) + np.random.uniform(-0.5, 0.5, points)\n",
        "\n",
        "plt.scatter(X, y)"
      ],
      "execution_count": 5,
      "outputs": [
        {
          "output_type": "execute_result",
          "data": {
            "text/plain": [
              "<matplotlib.collections.PathCollection at 0x7f313e023c18>"
            ]
          },
          "metadata": {
            "tags": []
          },
          "execution_count": 5
        },
        {
          "output_type": "display_data",
          "data": {
            "image/png": "[encoded data removed]",
            "text/plain": [
              "<Figure size 432x288 with 1 Axes>"
            ]
          },
          "metadata": {
            "tags": [],
            "needs_background": "light"
          }
        }
      ]
    },
    {
      "cell_type": "code",
      "metadata": {
        "id": "6063QFAfij0v"
      },
      "source": [
        "model = Sequential()\n",
        "model.add(Dense(50, activation='sigmoid', input_dim=1))\n",
        "model.add(Dense(30, activation='sigmoid'))\n",
        "model.add(Dense(1))"
      ],
      "execution_count": 8,
      "outputs": []
    },
    {
      "cell_type": "code",
      "metadata": {
        "colab": {
          "base_uri": "https://localhost:8080/"
        },
        "id": "PpFa3ERqj2Ua",
        "outputId": "f70b64c2-61e8-41d9-ea47-4f6589e2f4b2"
      },
      "source": [
        "adam = Adam(lr=0.01)\n",
        "model.compile(loss='mse', optimizer=adam)\n",
        "model.fit(X, y, epochs=50)"
      ],
      "execution_count": 9,
      "outputs": [
        {
          "output_type": "stream",
          "text": [
            "Epoch 1/50\n",
            "16/16 [==============================] - 1s 1ms/step - loss: 1.0346\n",
            "Epoch 2/50\n",
            "16/16 [==============================] - 0s 1ms/step - loss: 0.3803\n",
            "Epoch 3/50\n",
            "16/16 [==============================] - 0s 1ms/step - loss: 0.2344\n",
            "Epoch 4/50\n",
            "16/16 [==============================] - 0s 2ms/step - loss: 0.2310\n",
            "Epoch 5/50\n",
            "16/16 [==============================] - 0s 1ms/step - loss: 0.2155\n",
            "Epoch 6/50\n",
            "16/16 [==============================] - 0s 1ms/step - loss: 0.2215\n",
            "Epoch 7/50\n",
            "16/16 [==============================] - 0s 1ms/step - loss: 0.2223\n",
            "Epoch 8/50\n",
            "16/16 [==============================] - 0s 1ms/step - loss: 0.2272\n",
            "Epoch 9/50\n",
            "16/16 [==============================] - 0s 1ms/step - loss: 0.2110\n",
            "Epoch 10/50\n",
            "16/16 [==============================] - 0s 2ms/step - loss: 0.1953\n",
            "Epoch 11/50\n",
            "16/16 [==============================] - 0s 1ms/step - loss: 0.1673\n",
            "Epoch 12/50\n",
            "16/16 [==============================] - 0s 2ms/step - loss: 0.1810\n",
            "Epoch 13/50\n",
            "16/16 [==============================] - 0s 1ms/step - loss: 0.1825\n",
            "Epoch 14/50\n",
            "16/16 [==============================] - 0s 1ms/step - loss: 0.1865\n",
            "Epoch 15/50\n",
            "16/16 [==============================] - 0s 1ms/step - loss: 0.1569\n",
            "Epoch 16/50\n",
            "16/16 [==============================] - 0s 1ms/step - loss: 0.1535\n",
            "Epoch 17/50\n",
            "16/16 [==============================] - 0s 1ms/step - loss: 0.1430\n",
            "Epoch 18/50\n",
            "16/16 [==============================] - 0s 1ms/step - loss: 0.1344\n",
            "Epoch 19/50\n",
            "16/16 [==============================] - 0s 1ms/step - loss: 0.1266\n",
            "Epoch 20/50\n",
            "16/16 [==============================] - 0s 1ms/step - loss: 0.1131\n",
            "Epoch 21/50\n",
            "16/16 [==============================] - 0s 1ms/step - loss: 0.1085\n",
            "Epoch 22/50\n",
            "16/16 [==============================] - 0s 1ms/step - loss: 0.1119\n",
            "Epoch 23/50\n",
            "16/16 [==============================] - 0s 1ms/step - loss: 0.1015\n",
            "Epoch 24/50\n",
            "16/16 [==============================] - 0s 1ms/step - loss: 0.1107\n",
            "Epoch 25/50\n",
            "16/16 [==============================] - 0s 1ms/step - loss: 0.1099\n",
            "Epoch 26/50\n",
            "16/16 [==============================] - 0s 1ms/step - loss: 0.1097\n",
            "Epoch 27/50\n",
            "16/16 [==============================] - 0s 1ms/step - loss: 0.1184\n",
            "Epoch 28/50\n",
            "16/16 [==============================] - 0s 1ms/step - loss: 0.1079\n",
            "Epoch 29/50\n",
            "16/16 [==============================] - 0s 2ms/step - loss: 0.1053\n",
            "Epoch 30/50\n",
            "16/16 [==============================] - 0s 1ms/step - loss: 0.1064\n",
            "Epoch 31/50\n",
            "16/16 [==============================] - 0s 2ms/step - loss: 0.1078\n",
            "Epoch 32/50\n",
            "16/16 [==============================] - 0s 1ms/step - loss: 0.1087\n",
            "Epoch 33/50\n",
            "16/16 [==============================] - 0s 2ms/step - loss: 0.1030\n",
            "Epoch 34/50\n",
            "16/16 [==============================] - 0s 1ms/step - loss: 0.1011\n",
            "Epoch 35/50\n",
            "16/16 [==============================] - 0s 2ms/step - loss: 0.1022\n",
            "Epoch 36/50\n",
            "16/16 [==============================] - 0s 1ms/step - loss: 0.0993\n",
            "Epoch 37/50\n",
            "16/16 [==============================] - 0s 1ms/step - loss: 0.1044\n",
            "Epoch 38/50\n",
            "16/16 [==============================] - 0s 1ms/step - loss: 0.1011\n",
            "Epoch 39/50\n",
            "16/16 [==============================] - 0s 1ms/step - loss: 0.1111\n",
            "Epoch 40/50\n",
            "16/16 [==============================] - 0s 1ms/step - loss: 0.1112\n",
            "Epoch 41/50\n",
            "16/16 [==============================] - 0s 1ms/step - loss: 0.1101\n",
            "Epoch 42/50\n",
            "16/16 [==============================] - 0s 1ms/step - loss: 0.1104\n",
            "Epoch 43/50\n",
            "16/16 [==============================] - 0s 1ms/step - loss: 0.1173\n",
            "Epoch 44/50\n",
            "16/16 [==============================] - 0s 2ms/step - loss: 0.1061\n",
            "Epoch 45/50\n",
            "16/16 [==============================] - 0s 2ms/step - loss: 0.1108\n",
            "Epoch 46/50\n",
            "16/16 [==============================] - 0s 1ms/step - loss: 0.1118\n",
            "Epoch 47/50\n",
            "16/16 [==============================] - 0s 1ms/step - loss: 0.1060\n",
            "Epoch 48/50\n",
            "16/16 [==============================] - 0s 2ms/step - loss: 0.0986\n",
            "Epoch 49/50\n",
            "16/16 [==============================] - 0s 1ms/step - loss: 0.0992\n",
            "Epoch 50/50\n",
            "16/16 [==============================] - 0s 1ms/step - loss: 0.1103\n"
          ],
          "name": "stdout"
        },
        {
          "output_type": "execute_result",
          "data": {
            "text/plain": [
              "<tensorflow.python.keras.callbacks.History at 0x7f30f8c912b0>"
            ]
          },
          "metadata": {
            "tags": []
          },
          "execution_count": 9
        }
      ]
    },
    {
      "cell_type": "code",
      "metadata": {
        "colab": {
          "base_uri": "https://localhost:8080/",
          "height": 265
        },
        "id": "nxDTX9l0kwum",
        "outputId": "ab2ae045-9593-4d78-b45a-1f09c0197f6f"
      },
      "source": [
        "predictions = model.predict(X)\n",
        "plt.scatter(X, y)\n",
        "plt.plot(X, predictions, 'ro')\n",
        "plt.show()"
      ],
      "execution_count": 11,
      "outputs": [
        {
          "output_type": "display_data",
          "data": {
            "image/png": "[encoded data removed]",
            "text/plain": [
              "<Figure size 432x288 with 1 Axes>"
            ]
          },
          "metadata": {
            "tags": [],
            "needs_background": "light"
          }
        }
      ]
    },
    {
      "cell_type": "code",
      "metadata": {
        "id": "WHUNULlBk1By"
      },
      "source": [
        ""
      ],
      "execution_count": null,
      "outputs": []
    }
  ]
}